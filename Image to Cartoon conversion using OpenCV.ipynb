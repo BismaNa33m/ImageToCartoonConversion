{
 "cells": [
  {
   "cell_type": "code",
   "execution_count": 1,
   "id": "f68ed0c3",
   "metadata": {},
   "outputs": [],
   "source": [
    "import cv2\n",
    "import numpy as np"
   ]
  },
  {
   "cell_type": "code",
   "execution_count": 2,
   "id": "4c94b0d3",
   "metadata": {},
   "outputs": [],
   "source": [
    "path = r\"C:\\Users\\Bisma Naeem\\Downloads\\child.jpg\"\n",
    "raw_img = cv2.imread(path)\n"
   ]
  },
  {
   "cell_type": "code",
   "execution_count": 3,
   "id": "12ed5346",
   "metadata": {},
   "outputs": [],
   "source": [
    "gray = cv2.cvtColor(img,cv2.COLOR_BGR2GRAY)\n",
    "gray = cv2.medianBlur(gray,5)\n",
    "edges = cv2.adaptiveThreshold(gray,255,cv2.ADAPTIVE_THRESH_MEAN_C,cv2.THRESH_BINARY,9,9)\n",
    "\n"
   ]
  },
  {
   "cell_type": "code",
   "execution_count": 4,
   "id": "3d8af1b3",
   "metadata": {},
   "outputs": [],
   "source": [
    "color = cv2.bilateralFilter(img,9,250,250)\n",
    "cartoon = cv2.bitwise_and(color,color,mask=edges)\n",
    "\n",
    "cv2.imshow(\"Image\",img)\n",
    "cv2.imshow(\"edges\",edges)\n",
    "cv2.imshow(\"Cartoon\",cartoon)\n",
    "cv2.waitKey(0)\n",
    "cv2.destroyAllWindows()"
   ]
  },
  {
   "cell_type": "code",
   "execution_count": null,
   "id": "85836f04",
   "metadata": {},
   "outputs": [],
   "source": []
  }
 ],
 "metadata": {
  "kernelspec": {
   "display_name": "Python 3",
   "language": "python",
   "name": "python3"
  },
  "language_info": {
   "codemirror_mode": {
    "name": "ipython",
    "version": 3
   },
   "file_extension": ".py",
   "mimetype": "text/x-python",
   "name": "python",
   "nbconvert_exporter": "python",
   "pygments_lexer": "ipython3",
   "version": "3.8.8"
  }
 },
 "nbformat": 4,
 "nbformat_minor": 5
}
